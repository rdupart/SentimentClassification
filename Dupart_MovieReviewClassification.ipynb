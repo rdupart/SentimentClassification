{
 "cells": [
  {
   "cell_type": "code",
   "execution_count": null,
   "id": "eb50b808-e319-450c-8399-af3d7cc39893",
   "metadata": {},
   "outputs": [],
   "source": [
    "import pandas as pd\n",
    "import numpy as np\n",
    "import os\n",
    "\n",
    "os.makedirs(\"aclImdb_v1\", exist_ok=True)\n",
    "basepath = r\"C:\\Users\\rsocc\\Downloads\\aclImdb_v1\\aclImdb\"\n",
    "\n",
    "labels = {'pos': 1, 'neg': 0}\n",
    "df = pd.DataFrame()\n",
    "\n",
    "for s in ('test', 'train'):\n",
    "    for l in ('pos', 'neg'):\n",
    "        path = os.path.join(basepath, s, l)\n",
    "        for file in sorted(os.listdir(path)):\n",
    "            with open(os.path.join(path, file), 'r', encoding='utf-8') as infile:\n",
    "                txt = infile.read()\n",
    "            df = pd.concat([df, pd.DataFrame([[txt, labels[l]]], columns=['review', 'sentiment'])], ignore_index=True)\n",
    "\n",
    "\n",
    "df.columns = ['review', 'sentiment']\n",
    "df = df.sample(frac=1, random_state=0)  # Shuffle dataset\n",
    "np.random.seed(0)\n",
    "df = df.reindex(np.random.permutation(df.index))\n",
    "df.to_csv('movie_data.csv', index=False, encoding='utf-8')\n",
    "df.head(3)\n",
    "df.shape\n",
    "#50k, 2"
   ]
  },
  {
   "cell_type": "code",
   "execution_count": null,
   "id": "83325f28-3406-47ae-8da6-8c5779653a05",
   "metadata": {},
   "outputs": [],
   "source": [
    "import re\n",
    "from nltk.stem.porter import PorterStemmer\n",
    "from nltk.corpus import stopwords\n",
    "import nltk\n",
    "nltk.download('stopwords')\n",
    "\n",
    "stop = stopwords.words('english')\n",
    "porter = PorterStemmer()\n",
    "\n",
    "def preprocess_text(text):\n",
    "    text = re.sub('<[^>]*>', '', text)  # Remove HTML\n",
    "    text = re.sub(r'\\W+', ' ', text.lower())  # Remove punctuation & lowercase\n",
    "    return text\n",
    "\n",
    "def tokenizer(text):\n",
    "    return text.split()\n",
    "\n",
    "def tokenizer_porter(text):\n",
    "    return [porter.stem(word) for word in tokenizer(text) if word not in stop]\n",
    "\n",
    "df['review'] = df['review'].apply(preprocess_text)\n"
   ]
  },
  {
   "cell_type": "code",
   "execution_count": null,
   "id": "93913928-70fd-463a-8ed1-e9b05e0beb10",
   "metadata": {},
   "outputs": [],
   "source": [
    "from sklearn.feature_extraction.text import TfidfVectorizer\n",
    "\n",
    "tfidf = TfidfVectorizer(strip_accents=None, lowercase=False, preprocessor=None,\n",
    "                        tokenizer=tokenizer_porter, stop_words=stop)\n",
    "\n",
    "X = tfidf.fit_transform(df['review'].values)\n"
   ]
  },
  {
   "cell_type": "code",
   "execution_count": null,
   "id": "4861ed77-73fd-45bb-a6bc-8b64426beaff",
   "metadata": {},
   "outputs": [],
   "source": [
    "from sklearn.model_selection import train_test_split\n",
    "from sklearn.linear_model import LogisticRegression\n",
    "from sklearn.pipeline import Pipeline\n",
    "\n",
    "X_train, X_test, y_train, y_test = train_test_split(X, df['sentiment'].values, test_size=0.5, random_state=0)\n",
    "\n",
    "model = Pipeline([('vectorizer', tfidf), ('classifier', LogisticRegression(solver='liblinear', random_state=0))])\n",
    "model.fit(X_train, y_train)\n",
    "\n",
    "print('Test Accuracy: %.3f' % model.score(X_test, y_test))\n"
   ]
  },
  {
   "cell_type": "code",
   "execution_count": null,
   "id": "5ff536b1-c88f-41e1-9eed-aa8a08ce66bc",
   "metadata": {},
   "outputs": [],
   "source": [
    "from sklearn.model_selection import GridSearchCV\n",
    "\n",
    "param_grid = {'classifier__C': [1.0, 10.0, 100.0], 'classifier__penalty': ['l1', 'l2']}\n",
    "gs = GridSearchCV(model, param_grid, scoring='accuracy', cv=5, verbose=2)\n",
    "gs.fit(X_train, y_train)\n",
    "\n",
    "print('Best Parameters:', gs.best_params_)\n",
    "print('Best Accuracy:', gs.best_score_)\n"
   ]
  },
  {
   "cell_type": "code",
   "execution_count": null,
   "id": "3f491be0-174e-477a-bfd3-d2fa0ed3397f",
   "metadata": {},
   "outputs": [],
   "source": [
    "from sklearn.linear_model import SGDClassifier\n",
    "from sklearn.feature_extraction.text import HashingVectorizer\n",
    "\n",
    "vect = HashingVectorizer(decode_error='ignore', n_features=2**21, preprocessor=None, tokenizer=tokenizer_porter)\n",
    "clf = SGDClassifier(loss='log', random_state=1)\n",
    "\n",
    "def stream_docs(path):\n",
    "    with open(path, 'r', encoding='utf-8') as csv:\n",
    "        next(csv)  # Skip header\n",
    "        for line in csv:\n",
    "            text, label = line[:-3], int(line[-2])\n",
    "            yield text, label\n",
    "\n",
    "doc_stream = stream_docs(path='movie_data.csv')\n",
    "for _ in range(45):\n",
    "    X_train, y_train = get_minibatch(doc_stream, size=1000)\n",
    "    if not X_train:\n",
    "        break\n",
    "    X_train = vect.transform(X_train)\n",
    "    clf.partial_fit(X_train, y_train, classes=[0, 1])\n",
    "\n",
    "# Evaluate on test set\n",
    "X_test, y_test = get_minibatch(doc_stream, size=5000)\n",
    "X_test = vect.transform(X_test)\n",
    "print('Online Learning Accuracy: %.3f' % clf.score(X_test, y_test))\n"
   ]
  },
  {
   "cell_type": "code",
   "execution_count": null,
   "id": "c7997936-d88e-4875-8c4b-87f28781cc5a",
   "metadata": {},
   "outputs": [],
   "source": [
    "from sklearn.decomposition import LatentDirichletAllocation\n",
    "from sklearn.feature_extraction.text import CountVectorizer\n",
    "\n",
    "count = CountVectorizer(stop_words='english', max_df=.1, max_features=5000)\n",
    "X = count.fit_transform(df['review'].values)\n",
    "\n",
    "lda = LatentDirichletAllocation(n_components=10, random_state=123, learning_method='batch')\n",
    "X_topics = lda.fit_transform(X)\n",
    "\n",
    "feature_names = count.get_feature_names()\n",
    "for topic_idx, topic in enumerate(lda.components_):\n",
    "    print(\"Topic %d:\" % (topic_idx + 1))\n",
    "    print(\" \".join([feature_names[i] for i in topic.argsort()[:-6:-1]]))\n"
   ]
  },
  {
   "cell_type": "code",
   "execution_count": null,
   "id": "ab0b6beb-1538-491f-8aee-160a8dda045c",
   "metadata": {},
   "outputs": [],
   "source": [
    "import joblib\n",
    "joblib.dump(model, 'sentiment_model.pkl')\n",
    "model = joblib.load('sentiment_model.pkl')\n",
    "print(model.predict([\"This movie was fantastic!\"]))\n"
   ]
  },
  {
   "cell_type": "code",
   "execution_count": null,
   "id": "1f01aaae-beda-4fb9-be01-d35ffade504a",
   "metadata": {},
   "outputs": [],
   "source": [
    "#train model\n",
    "import pickle\n",
    "\n",
    "# Train your model (Logistic Regression, for example)\n",
    "clf = train_your_model()  # Placeholder function\n",
    "\n",
    "# Save model and stop words\n",
    "dest = os.path.join('movieclassifier', 'pkl_objects')\n",
    "if not os.path.exists(dest):\n",
    "    os.makedirs(dest)\n",
    "\n",
    "pickle.dump(clf, open(os.path.join(dest, 'classifier.pkl'), 'wb'))\n",
    "pickle.dump(stop, open(os.path.join(dest, 'stopwords.pkl'), 'wb'))\n"
   ]
  },
  {
   "cell_type": "code",
   "execution_count": null,
   "id": "775e59be-af93-4aa9-8619-e63035c3bf8f",
   "metadata": {},
   "outputs": [],
   "source": []
  }
 ],
 "metadata": {
  "kernelspec": {
   "display_name": "Python 3 (ipykernel)",
   "language": "python",
   "name": "python3"
  },
  "language_info": {
   "codemirror_mode": {
    "name": "ipython",
    "version": 3
   },
   "file_extension": ".py",
   "mimetype": "text/x-python",
   "name": "python",
   "nbconvert_exporter": "python",
   "pygments_lexer": "ipython3",
   "version": "3.12.4"
  }
 },
 "nbformat": 4,
 "nbformat_minor": 5
}
